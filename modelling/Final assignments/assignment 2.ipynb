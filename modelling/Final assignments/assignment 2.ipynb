{
 "cells": [
  {
   "cell_type": "code",
   "execution_count": 11,
   "metadata": {},
   "outputs": [
    {
     "name": "stdout",
     "output_type": "stream",
     "text": [
      "                            OLS Regression Results                            \n",
      "==============================================================================\n",
      "Dep. Variable:          Months_active   R-squared:                       0.659\n",
      "Model:                            OLS   Adj. R-squared:                  0.654\n",
      "Method:                 Least Squares   F-statistic:                     115.1\n",
      "Date:                Thu, 27 Mar 2025   Prob (F-statistic):          7.19e-145\n",
      "Time:                        14:39:29   Log-Likelihood:                -1568.3\n",
      "No. Observations:                 666   AIC:                             3161.\n",
      "Df Residuals:                     654   BIC:                             3215.\n",
      "Df Model:                          11                                         \n",
      "Covariance Type:            nonrobust                                         \n",
      "======================================================================================\n",
      "                         coef    std err          t      P>|t|      [0.025      0.975]\n",
      "--------------------------------------------------------------------------------------\n",
      "const                 83.0055     15.400      5.390      0.000      52.767     113.244\n",
      "Distance_from_work    -0.5516      0.097     -5.694      0.000      -0.742      -0.361\n",
      "Age                    0.2838      0.019     14.679      0.000       0.246       0.322\n",
      "Children              -0.1383      0.105     -1.321      0.187      -0.344       0.067\n",
      "Pets                  -0.8304      0.094     -8.797      0.000      -1.016      -0.645\n",
      "Weight                 0.4789      0.098      4.895      0.000       0.287       0.671\n",
      "Height                -0.4972      0.090     -5.509      0.000      -0.674      -0.320\n",
      "BMI                   -1.1686      0.282     -4.140      0.000      -1.723      -0.614\n",
      "Absent_hours          -0.0035      0.007     -0.465      0.642      -0.018       0.011\n",
      "Disciplined_yes       -1.4301      0.441     -3.241      0.001      -2.296      -0.564\n",
      "Social_drinker_yes     2.1882      0.242      9.033      0.000       1.713       2.664\n",
      "Social_smoker_yes      2.8502      0.438      6.510      0.000       1.990       3.710\n",
      "==============================================================================\n",
      "Omnibus:                       80.382   Durbin-Watson:                   2.114\n",
      "Prob(Omnibus):                  0.000   Jarque-Bera (JB):              346.291\n",
      "Skew:                           0.458   Prob(JB):                     6.36e-76\n",
      "Kurtosis:                       6.412   Cond. No.                     3.01e+04\n",
      "==============================================================================\n",
      "\n",
      "Notes:\n",
      "[1] Standard Errors assume that the covariance matrix of the errors is correctly specified.\n",
      "[2] The condition number is large, 3.01e+04. This might indicate that there are\n",
      "strong multicollinearity or other numerical problems.\n"
     ]
    }
   ],
   "source": [
    "# Import necessary libraries\n",
    "import pandas as pd\n",
    "import statsmodels.api as sm\n",
    "\n",
    "# Step 1: Load the dataset from the CSV file\n",
    "df = pd.read_csv('/workspaces/Phuong5/1669242turnover.csv')\n",
    "\n",
    "# Create dummy variables for categorical columns (drop_first=True to avoid dummy trap)\n",
    "df_encoded = pd.get_dummies(df, columns=['Disciplined', 'Social_drinker', 'Social_smoker'], drop_first=True)\n",
    "\n",
    "# Define the dependent variable (Months_active) and all independent variables\n",
    "y = df_encoded['Months_active']\n",
    "X = df_encoded.drop(columns=['Months_active'])  # Include all other variables as independent variables\n",
    "\n",
    "# Convert to numeric (in case of any object types)\n",
    "X = X.astype(float)\n",
    "y = y.astype(float)\n",
    "\n",
    "# Add a constant term for the intercept\n",
    "X_const = sm.add_constant(X)\n",
    "\n",
    "# Fit the OLS regression model\n",
    "model_initial = sm.OLS(y, X_const).fit()\n",
    "\n",
    "# Print the summary to inspect the initial results\n",
    "print(model_initial.summary())"
   ]
  },
  {
   "cell_type": "code",
   "execution_count": 12,
   "metadata": {},
   "outputs": [
    {
     "name": "stdout",
     "output_type": "stream",
     "text": [
      "VIF Values:\n",
      "              Variable           VIF\n",
      "0                const  23862.609957\n",
      "1   Distance_from_work      1.669787\n",
      "2                  Age      1.590323\n",
      "3             Children      1.336165\n",
      "4                 Pets      1.387897\n",
      "5               Weight    163.386509\n",
      "6               Height     30.034015\n",
      "7                  BMI    147.525079\n",
      "8         Absent_hours      1.076758\n",
      "9      Disciplined_yes      1.079833\n",
      "10  Social_drinker_yes      1.451719\n",
      "11   Social_smoker_yes      1.215341\n"
     ]
    }
   ],
   "source": [
    "from statsmodels.stats.outliers_influence import variance_inflation_factor\n",
    "\n",
    "# Calculate VIF for each independent variable\n",
    "vif_data = pd.DataFrame()\n",
    "vif_data['Variable'] = X_const.columns\n",
    "vif_data['VIF'] = [variance_inflation_factor(X_const.values, i) for i in range(X_const.shape[1])]\n",
    "\n",
    "# Print the VIF table\n",
    "print(\"VIF Values:\")\n",
    "print(vif_data)"
   ]
  },
  {
   "cell_type": "code",
   "execution_count": null,
   "metadata": {},
   "outputs": [
    {
     "data": {
      "text/html": [
       "Table 1: Regression Results Predicting Months Active<br><table style=\"text-align:center\"><tr><td colspan=\"3\" style=\"border-bottom: 1px solid black\"></td></tr>\n",
       "<tr><td style=\"text-align:left\"></td><td colspan=\"2\"><em>Dependent variable: Months_active</em></td></tr><tr><td style=\"text-align:left\"></td><tr><td></td><td colspan=\"1\">Model 1</td><td colspan=\"1\">Model 2</td></tr><tr><td style=\"text-align:left\"></td><td>(1)</td><td>(2)</td></tr>\n",
       "<tr><td colspan=\"3\" style=\"border-bottom: 1px solid black\"></td></tr>\n",
       "\n",
       "<tr><td style=\"text-align:left\">Absent_hours</td><td></td><td>-0.006<sup></sup></td></tr>\n",
       "<tr><td style=\"text-align:left\"></td><td></td><td>(0.008)</td></tr>\n",
       "<tr><td style=\"text-align:left\">Age</td><td>0.428<sup>***</sup></td><td>0.345<sup>***</sup></td></tr>\n",
       "<tr><td style=\"text-align:left\"></td><td>(0.019)</td><td>(0.018)</td></tr>\n",
       "<tr><td style=\"text-align:left\">Children</td><td>-0.061<sup></sup></td><td>-0.254<sup>**</sup></td></tr>\n",
       "<tr><td style=\"text-align:left\"></td><td>(0.119)</td><td>(0.107)</td></tr>\n",
       "<tr><td style=\"text-align:left\">Disciplined (Yes)</td><td></td><td>-1.122<sup>**</sup></td></tr>\n",
       "<tr><td style=\"text-align:left\"></td><td></td><td>(0.462)</td></tr>\n",
       "<tr><td style=\"text-align:left\">Distance_from_work</td><td>-0.635<sup>***</sup></td><td>-0.630<sup>***</sup></td></tr>\n",
       "<tr><td style=\"text-align:left\"></td><td>(0.101)</td><td>(0.101)</td></tr>\n",
       "<tr><td style=\"text-align:left\">Height</td><td></td><td>-0.082<sup>***</sup></td></tr>\n",
       "<tr><td style=\"text-align:left\"></td><td></td><td>(0.019)</td></tr>\n",
       "<tr><td style=\"text-align:left\">Pets</td><td></td><td>-0.640<sup>***</sup></td></tr>\n",
       "<tr><td style=\"text-align:left\"></td><td></td><td>(0.096)</td></tr>\n",
       "<tr><td style=\"text-align:left\">Social Drinker (Yes)</td><td></td><td>2.687<sup>***</sup></td></tr>\n",
       "<tr><td style=\"text-align:left\"></td><td></td><td>(0.239)</td></tr>\n",
       "<tr><td style=\"text-align:left\">Social Smoker (Yes)</td><td></td><td>1.770<sup>***</sup></td></tr>\n",
       "<tr><td style=\"text-align:left\"></td><td></td><td>(0.440)</td></tr>\n",
       "<tr><td style=\"text-align:left\">Constant</td><td>-0.146<sup></sup></td><td>16.142<sup>***</sup></td></tr>\n",
       "<tr><td style=\"text-align:left\"></td><td>(0.905)</td><td>(3.485)</td></tr>\n",
       "\n",
       "<td colspan=\"3\" style=\"border-bottom: 1px solid black\"></td></tr>\n",
       "<tr><td style=\"text-align: left\">Observations</td><td>666</td><td>666</td></tr><tr><td style=\"text-align: left\">R<sup>2</sup></td><td>0.502</td><td>0.622</td></tr><tr><td style=\"text-align: left\">Adjusted R<sup>2</sup></td><td>0.500</td><td>0.617</td></tr><tr><td style=\"text-align: left\">Residual Std. Error</td><td>3.091 (df=662)</td><td>2.704 (df=656)</td></tr><tr><td style=\"text-align: left\">F Statistic</td><td>222.658<sup>***</sup> (df=3; 662)</td><td>120.163<sup>***</sup> (df=9; 656)</td></tr>\n",
       "<tr><td colspan=\"3\" style=\"border-bottom: 1px solid black\"></td></tr><tr><td style=\"text-align: left\">Note:</td><td colspan=\"2\" style=\"text-align: right\"><sup>*</sup>p&lt;0.1; <sup>**</sup>p&lt;0.05; <sup>***</sup>p&lt;0.01</td></tr></table>"
      ],
      "text/plain": [
       "<IPython.core.display.HTML object>"
      ]
     },
     "execution_count": 18,
     "metadata": {},
     "output_type": "execute_result"
    }
   ],
   "source": [
    "# Import necessary libraries (assumed to be imported from previous steps)\n",
    "from stargazer.stargazer import Stargazer\n",
    "from IPython.core.display import HTML\n",
    "\n",
    "# Model 1: Simpler model\n",
    "X1 = df_encoded[['Distance_from_work', 'Age', 'Children']]\n",
    "X1 = X1.astype(float)\n",
    "X1_const = sm.add_constant(X1)\n",
    "model1 = sm.OLS(y, X1_const).fit()\n",
    "\n",
    "# Model 2: Full model (after dropping BMI and Weight)\n",
    "X_reduced = df_encoded.drop(columns=['Months_active', 'BMI', 'Weight'])\n",
    "X_reduced = X_reduced.astype(float)\n",
    "X_reduced_const = sm.add_constant(X_reduced)\n",
    "model_reduced = sm.OLS(y, X_reduced_const).fit()\n",
    "\n",
    "# Create the APA table using Stargazer \n",
    "table = Stargazer([model1, model_reduced])\n",
    "table.title(\"Table 1: Regression Results Predicting Months Active\")\n",
    "table.custom_columns(['Model 1', 'Model 2'], [1, 1])\n",
    "table.show_stars = True  # Corrected: Set the property instead of calling it\n",
    "table.rename_covariates({\n",
    "    'const': 'Constant',\n",
    "    'Disciplined_yes': 'Disciplined (Yes)',\n",
    "    'Social_drinker_yes': 'Social Drinker (Yes)',\n",
    "    'Social_smoker_yes': 'Social Smoker (Yes)'\n",
    "})\n",
    "\n",
    "# Render the table as HTML\n",
    "HTML(table.render_html())"
   ]
  }
 ],
 "metadata": {
  "kernelspec": {
   "display_name": "Python 3",
   "language": "python",
   "name": "python3"
  },
  "language_info": {
   "codemirror_mode": {
    "name": "ipython",
    "version": 3
   },
   "file_extension": ".py",
   "mimetype": "text/x-python",
   "name": "python",
   "nbconvert_exporter": "python",
   "pygments_lexer": "ipython3",
   "version": "3.12.1"
  }
 },
 "nbformat": 4,
 "nbformat_minor": 2
}
