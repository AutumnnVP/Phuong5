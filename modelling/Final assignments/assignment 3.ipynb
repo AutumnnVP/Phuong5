{
 "cells": [
  {
   "cell_type": "code",
   "execution_count": null,
   "metadata": {},
   "outputs": [
    {
     "name": "stdout",
     "output_type": "stream",
     "text": [
      "                            OLS Regression Results                            \n",
      "==============================================================================\n",
      "Dep. Variable:          Months_active   R-squared:                       0.622\n",
      "Model:                            OLS   Adj. R-squared:                  0.617\n",
      "Method:                 Least Squares   F-statistic:                     120.2\n",
      "Date:                Thu, 27 Mar 2025   Prob (F-statistic):          1.92e-132\n",
      "Time:                        15:24:03   Log-Likelihood:                -620.16\n",
      "No. Observations:                 666   AIC:                             1260.\n",
      "Df Residuals:                     656   BIC:                             1305.\n",
      "Df Model:                           9                                         \n",
      "Covariance Type:            nonrobust                                         \n",
      "======================================================================================\n",
      "                         coef    std err          t      P>|t|      [0.025      0.975]\n",
      "--------------------------------------------------------------------------------------\n",
      "const              -2.474e-16      0.024  -1.03e-14      1.000      -0.047       0.047\n",
      "Distance_from_work    -0.1916      0.031     -6.217      0.000      -0.252      -0.131\n",
      "Age                    0.5140      0.027     18.926      0.000       0.461       0.567\n",
      "Children              -0.0639      0.027     -2.366      0.018      -0.117      -0.011\n",
      "Pets                  -0.1823      0.027     -6.647      0.000      -0.236      -0.128\n",
      "Height                -0.1142      0.026     -4.436      0.000      -0.165      -0.064\n",
      "Absent_hours          -0.0187      0.025     -0.751      0.453      -0.067       0.030\n",
      "Disciplined_yes       -0.0603      0.025     -2.428      0.015      -0.109      -0.012\n",
      "Social_drinker_yes     0.3050      0.027     11.225      0.000       0.252       0.358\n",
      "Social_smoker_yes      0.1017      0.025      4.023      0.000       0.052       0.151\n",
      "==============================================================================\n",
      "Omnibus:                      171.448   Durbin-Watson:                   2.108\n",
      "Prob(Omnibus):                  0.000   Jarque-Bera (JB):             1006.379\n",
      "Skew:                           1.011   Prob(JB):                    2.94e-219\n",
      "Kurtosis:                       8.673   Cond. No.                         2.19\n",
      "==============================================================================\n",
      "\n",
      "Notes:\n",
      "[1] Standard Errors assume that the covariance matrix of the errors is correctly specified.\n"
     ]
    }
   ],
   "source": [
    "# Import necessary libraries\n",
    "import pandas as pd\n",
    "import statsmodels.api as sm\n",
    "\n",
    "# Step 1: Load dataset and create dummy variables \n",
    "df = pd.read_csv('/workspaces/Phuong5/1669242turnover.csv')\n",
    "df_encoded = pd.get_dummies(df, columns=['Disciplined', 'Social_drinker', 'Social_smoker'], drop_first=True)\n",
    "\n",
    "# Define dependent and independent variables\n",
    "y = df_encoded['Months_active']\n",
    "X = df_encoded.drop(columns=['Months_active', 'BMI', 'Weight'])  # Drop BMI and Weight as in Assignment 2\n",
    "\n",
    "# Standardize the variables\n",
    "y_standardized = (y - y.mean()) / y.std()\n",
    "X_standardized = (X - X.mean()) / X.std()\n",
    "\n",
    "# Add constant\n",
    "X_standardized_const = sm.add_constant(X_standardized)\n",
    "\n",
    "# Fit the OLS model with standardized variables\n",
    "model_standardized = sm.OLS(y_standardized, X_standardized_const).fit()\n",
    "\n",
    "# Print the summary to get standardized coefficients\n",
    "print(model_standardized.summary())"
   ]
  }
 ],
 "metadata": {
  "kernelspec": {
   "display_name": "Python 3",
   "language": "python",
   "name": "python3"
  },
  "language_info": {
   "codemirror_mode": {
    "name": "ipython",
    "version": 3
   },
   "file_extension": ".py",
   "mimetype": "text/x-python",
   "name": "python",
   "nbconvert_exporter": "python",
   "pygments_lexer": "ipython3",
   "version": "3.12.1"
  }
 },
 "nbformat": 4,
 "nbformat_minor": 2
}
